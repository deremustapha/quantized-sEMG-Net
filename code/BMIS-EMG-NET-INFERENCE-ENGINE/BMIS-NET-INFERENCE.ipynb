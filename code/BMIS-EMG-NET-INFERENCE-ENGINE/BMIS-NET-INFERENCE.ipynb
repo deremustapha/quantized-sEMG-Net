{
 "cells": [
  {
   "cell_type": "raw",
   "id": "a0fbfea1",
   "metadata": {},
   "source": [
    "This notebook is running on the Ultra96-v2.\n",
    "The essence is to check performance of the depolyed model and also use the output of the classifer\n",
    "to control a prosthetic device.\n",
    "\n",
    "1. Importing relevant libs --> Note acquire_data and pyoyo are needed to interface the myoband to with the Ultra96\n",
    "2. Loading DPU overlay and then the compiled model"
   ]
  },
  {
   "cell_type": "code",
   "execution_count": 1,
   "id": "54f86c9b",
   "metadata": {},
   "outputs": [
    {
     "data": {
      "application/javascript": [
       "\n",
       "try {\n",
       "require(['notebook/js/codecell'], function(codecell) {\n",
       "  codecell.CodeCell.options_default.highlight_modes[\n",
       "      'magic_text/x-csrc'] = {'reg':[/^%%microblaze/]};\n",
       "  Jupyter.notebook.events.one('kernel_ready.Kernel', function(){\n",
       "      Jupyter.notebook.get_cells().map(function(cell){\n",
       "          if (cell.cell_type == 'code'){ cell.auto_highlight(); } }) ;\n",
       "  });\n",
       "});\n",
       "} catch (e) {};\n"
      ]
     },
     "metadata": {},
     "output_type": "display_data"
    },
    {
     "data": {
      "application/javascript": [
       "\n",
       "try {\n",
       "require(['notebook/js/codecell'], function(codecell) {\n",
       "  codecell.CodeCell.options_default.highlight_modes[\n",
       "      'magic_text/x-csrc'] = {'reg':[/^%%pybind11/]};\n",
       "  Jupyter.notebook.events.one('kernel_ready.Kernel', function(){\n",
       "      Jupyter.notebook.get_cells().map(function(cell){\n",
       "          if (cell.cell_type == 'code'){ cell.auto_highlight(); } }) ;\n",
       "  });\n",
       "});\n",
       "} catch (e) {};\n"
      ]
     },
     "metadata": {},
     "output_type": "display_data"
    }
   ],
   "source": [
    "# Importing basic python libraries\n",
    "\n",
    "import os \n",
    "import time\n",
    "import numpy as np\n",
    "import math\n",
    "import threading\n",
    "import sys\n",
    "import time\n",
    "from serial import Serial\n",
    "# Importing Myoware libraries \n",
    "from queue import Queue\n",
    "from acquire_data import *\n",
    "from bio_signal_processing import *\n",
    "from pyomyo import Myo, emg_mode\n",
    "from pynq_dpu import DpuOverlay\n",
    "import matplotlib.pyplot as plt"
   ]
  },
  {
   "cell_type": "code",
   "execution_count": 2,
   "id": "2c76ccb1",
   "metadata": {},
   "outputs": [],
   "source": [
    "com_port = '/dev/ttyUSB0'\n",
    "arduino = Serial(com_port, 115200, timeout=2)\n",
    "\n",
    "def write_prediction(x):\n",
    "    \n",
    "    X = str(x)\n",
    "    arduino.write(bytes(X, 'utf-8'))"
   ]
  },
  {
   "cell_type": "code",
   "execution_count": 3,
   "id": "6957218a",
   "metadata": {},
   "outputs": [],
   "source": [
    "size = 40\n",
    "data = get_data()[0:8,1:size+1] \n",
    "data =  preprocess(data)\n",
    "data = np.float32(data) # Convert to float \n",
    "data = np.expand_dims(data, axis=2) # Expand dimensions to (8, 52, 1)"
   ]
  },
  {
   "cell_type": "code",
   "execution_count": 4,
   "id": "8d69a77e",
   "metadata": {},
   "outputs": [],
   "source": [
    "# Importing DPU Overlay blocks and .xmodel\n",
    "overlay = DpuOverlay(\"dpu.bit\")\n",
    "overlay.load_model(\"model.xmodel\")"
   ]
  },
  {
   "cell_type": "code",
   "execution_count": 5,
   "id": "2823ecc0",
   "metadata": {},
   "outputs": [],
   "source": [
    "dpu = overlay.runner\n",
    "\n",
    "inputTensors = dpu.get_input_tensors()\n",
    "outputTensors = dpu.get_output_tensors()\n",
    "\n",
    "shapeIn = tuple(inputTensors[0].dims)\n",
    "shapeOut = tuple(outputTensors[0].dims)\n",
    "outputSize = int(outputTensors[0].get_data_size() / shapeIn[0])\n",
    "\n",
    "softmax = np.empty(outputSize)\n",
    "\n",
    "# Buffer defination to store input and output data. They will be reused during multiple runs.\n",
    "\n",
    "output_data = [np.empty(shapeOut, dtype=np.float32, order=\"C\")]\n",
    "input_data = [np.empty(shapeIn, dtype=np.float32, order=\"C\")]\n",
    "emg = input_data[0]\n"
   ]
  },
  {
   "cell_type": "code",
   "execution_count": 6,
   "id": "4ab719e6",
   "metadata": {},
   "outputs": [],
   "source": [
    "def calculate_softmax(data):\n",
    "    \n",
    "    result = np.exp(data)\n",
    "    return result"
   ]
  },
  {
   "cell_type": "code",
   "execution_count": 7,
   "id": "a71cabb4",
   "metadata": {},
   "outputs": [],
   "source": [
    "gesture_list = ['Large diamter grasp', 'Meduim diameter grasp',\n",
    "               'Three finger sphere grasp', 'Prismatic pinch grasp',\n",
    "               'Power grasp', 'Cut', 'Rest']"
   ]
  },
  {
   "cell_type": "code",
   "execution_count": null,
   "id": "f8b278da",
   "metadata": {},
   "outputs": [
    {
     "name": "stdout",
     "output_type": "stream",
     "text": [
      "Predicted gesture is Cut\n",
      "Predicted gesture is Cut\n",
      "Predicted gesture is Cut\n",
      "Predicted gesture is Cut\n",
      "Predicted gesture is Rest\n",
      "Predicted gesture is Prismatic pinch grasp\n",
      "Predicted gesture is Rest\n",
      "Predicted gesture is Rest\n",
      "Predicted gesture is Cut\n",
      "Predicted gesture is Meduim diameter grasp\n",
      "Predicted gesture is Rest\n",
      "Predicted gesture is Rest\n",
      "Predicted gesture is Rest\n",
      "Predicted gesture is Large diamter grasp\n",
      "Predicted gesture is Rest\n",
      "Predicted gesture is Large diamter grasp\n",
      "Predicted gesture is Rest\n",
      "Predicted gesture is Prismatic pinch grasp\n",
      "Predicted gesture is Large diamter grasp\n",
      "Predicted gesture is Rest\n",
      "Predicted gesture is Rest\n",
      "Predicted gesture is Rest\n",
      "Predicted gesture is Rest\n",
      "Predicted gesture is Rest\n",
      "Predicted gesture is Prismatic pinch grasp\n",
      "Predicted gesture is Rest\n",
      "Predicted gesture is Prismatic pinch grasp\n",
      "Predicted gesture is Large diamter grasp\n",
      "Predicted gesture is Prismatic pinch grasp\n",
      "Predicted gesture is Cut\n",
      "Predicted gesture is Rest\n"
     ]
    }
   ],
   "source": [
    "while True:\n",
    "    \n",
    "    size = 40\n",
    "    data = get_data()[0:8,1:size+1] \n",
    "    data =  preprocess(data)\n",
    "    data = np.float32(data) # Convert to float \n",
    "    data = np.expand_dims(data, axis=2) # Expand dimensions to (8, 52, 1)\n",
    "    \n",
    "    emg[0, ...] = data\n",
    "    \n",
    "    job_id = dpu.execute_async(input_data, output_data)\n",
    "    dpu.wait(job_id)\n",
    "    temp = [j.reshape(1, outputSize) for j in output_data]\n",
    "    softmax = calculate_softmax(temp[0][0])\n",
    "    prediction = softmax.argmax()\n",
    "    data = 0\n",
    "    print(\"Predicted gesture is {}\".format(gesture_list[prediction]))\n",
    "    write_prediction(prediction)"
   ]
  },
  {
   "cell_type": "code",
   "execution_count": null,
   "id": "b4b4c36e",
   "metadata": {},
   "outputs": [],
   "source": [
    "del overlay\n",
    "del dpu"
   ]
  }
 ],
 "metadata": {
  "kernelspec": {
   "display_name": "Python 3",
   "language": "python",
   "name": "python3"
  },
  "language_info": {
   "codemirror_mode": {
    "name": "ipython",
    "version": 3
   },
   "file_extension": ".py",
   "mimetype": "text/x-python",
   "name": "python",
   "nbconvert_exporter": "python",
   "pygments_lexer": "ipython3",
   "version": "3.8.2"
  }
 },
 "nbformat": 4,
 "nbformat_minor": 5
}
