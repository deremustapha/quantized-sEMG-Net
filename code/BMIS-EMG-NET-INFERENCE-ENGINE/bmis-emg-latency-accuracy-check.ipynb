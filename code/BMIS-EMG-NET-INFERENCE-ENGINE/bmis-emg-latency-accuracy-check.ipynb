{
 "cells": [
  {
   "cell_type": "code",
   "execution_count": 1,
   "id": "4086f28e",
   "metadata": {},
   "outputs": [
    {
     "data": {
      "application/javascript": [
       "\n",
       "try {\n",
       "require(['notebook/js/codecell'], function(codecell) {\n",
       "  codecell.CodeCell.options_default.highlight_modes[\n",
       "      'magic_text/x-csrc'] = {'reg':[/^%%microblaze/]};\n",
       "  Jupyter.notebook.events.one('kernel_ready.Kernel', function(){\n",
       "      Jupyter.notebook.get_cells().map(function(cell){\n",
       "          if (cell.cell_type == 'code'){ cell.auto_highlight(); } }) ;\n",
       "  });\n",
       "});\n",
       "} catch (e) {};\n"
      ]
     },
     "metadata": {},
     "output_type": "display_data"
    },
    {
     "data": {
      "application/javascript": [
       "\n",
       "try {\n",
       "require(['notebook/js/codecell'], function(codecell) {\n",
       "  codecell.CodeCell.options_default.highlight_modes[\n",
       "      'magic_text/x-csrc'] = {'reg':[/^%%pybind11/]};\n",
       "  Jupyter.notebook.events.one('kernel_ready.Kernel', function(){\n",
       "      Jupyter.notebook.get_cells().map(function(cell){\n",
       "          if (cell.cell_type == 'code'){ cell.auto_highlight(); } }) ;\n",
       "  });\n",
       "});\n",
       "} catch (e) {};\n"
      ]
     },
     "metadata": {},
     "output_type": "display_data"
    }
   ],
   "source": [
    "# Importing basic python libraries\n",
    "\n",
    "import os \n",
    "import time\n",
    "import numpy as np\n",
    "import math\n",
    "import threading\n",
    "import sys\n",
    "import time\n",
    "from pynq_dpu import DpuOverlay\n",
    "from scipy.io import loadmat\n",
    "from queue import Queue"
   ]
  },
  {
   "cell_type": "code",
   "execution_count": 2,
   "id": "aa982c47",
   "metadata": {},
   "outputs": [],
   "source": [
    "# Importing DPU Overlay blocks and .xmodel\n",
    "overlay = DpuOverlay(\"dpu.bit\")\n",
    "overlay.load_model(\"model.xmodel\")"
   ]
  },
  {
   "cell_type": "code",
   "execution_count": 3,
   "id": "a9c2a0b5",
   "metadata": {},
   "outputs": [
    {
     "name": "stdout",
     "output_type": "stream",
     "text": [
      "Shape of input data is (6645, 8, 40)\n"
     ]
    }
   ],
   "source": [
    "dataset = loadmat('test_data')\n",
    "raw_data = dataset['data']\n",
    "label = dataset['label']\n",
    "print(\"Shape of input data is {}\".format(raw_data.shape))"
   ]
  },
  {
   "cell_type": "code",
   "execution_count": null,
   "id": "0abf51ee",
   "metadata": {},
   "outputs": [],
   "source": [
    "mu = raw_data.mean(axis=2)\n",
    "std = raw_data.std(axis=2)\n",
    "data = np.zeros(raw_data.shape)\n",
    "for indx, sample in enumerate(raw_data):\n",
    "    data[indx]  = ((raw_data[indx].transpose() - mu[indx]) / std[indx]).transpose()\n"
   ]
  },
  {
   "cell_type": "code",
   "execution_count": 4,
   "id": "7f83a630",
   "metadata": {
    "scrolled": true
   },
   "outputs": [
    {
     "data": {
      "text/plain": [
       "(6645, 8, 40, 1)"
      ]
     },
     "execution_count": 4,
     "metadata": {},
     "output_type": "execute_result"
    }
   ],
   "source": [
    "data = np.expand_dims(raw_data, axis=3)\n",
    "data.shape"
   ]
  },
  {
   "cell_type": "code",
   "execution_count": 5,
   "id": "0b8ea8b4",
   "metadata": {},
   "outputs": [],
   "source": [
    "dpu = overlay.runner\n",
    "\n",
    "inputTensors = dpu.get_input_tensors()\n",
    "outputTensors = dpu.get_output_tensors()\n",
    "\n",
    "shapeIn = tuple(inputTensors[0].dims)\n",
    "shapeOut = tuple(outputTensors[0].dims)\n",
    "outputSize = int(outputTensors[0].get_data_size() / shapeIn[0])\n",
    "\n",
    "softmax = np.empty(outputSize)"
   ]
  },
  {
   "cell_type": "code",
   "execution_count": 6,
   "id": "b3e7c935",
   "metadata": {},
   "outputs": [],
   "source": [
    "output_data = [np.empty(shapeOut, dtype=np.float32, order=\"C\")]\n",
    "input_data = [np.empty(shapeIn, dtype=np.float32, order=\"C\")]\n",
    "image = input_data[0]"
   ]
  },
  {
   "cell_type": "code",
   "execution_count": 7,
   "id": "c20f6626",
   "metadata": {},
   "outputs": [],
   "source": [
    "def calculate_softmax(data):\n",
    "    result = np.exp(data)\n",
    "    return result"
   ]
  },
  {
   "cell_type": "code",
   "execution_count": 8,
   "id": "67c4fc96",
   "metadata": {},
   "outputs": [
    {
     "name": "stdout",
     "output_type": "stream",
     "text": [
      "Prediction: 0 && True Label [0.]\n",
      "Prediction: 4 && True Label [4.]\n",
      "Prediction: 0 && True Label [0.]\n",
      "Prediction: 5 && True Label [5.]\n",
      "Prediction: 3 && True Label [3.]\n",
      "Prediction: 2 && True Label [2.]\n",
      "Prediction: 6 && True Label [6.]\n",
      "Prediction: 4 && True Label [4.]\n",
      "Prediction: 5 && True Label [5.]\n",
      "Prediction: 6 && True Label [6.]\n"
     ]
    }
   ],
   "source": [
    "num_samples  = 10\n",
    "for i in range(num_samples):\n",
    "    image[0,...] = data[i]\n",
    "    job_id = dpu.execute_async(input_data, output_data)\n",
    "    dpu.wait(job_id)\n",
    "    temp = [j.reshape(1, outputSize) for j in output_data]\n",
    "    softmax = calculate_softmax(temp[0][0])\n",
    "    prediction = softmax.argmax()\n",
    "    gnd_truth = label[i]\n",
    "    \n",
    "    print('Prediction: {} && True Label {}'.format(prediction, gnd_truth))"
   ]
  },
  {
   "cell_type": "code",
   "execution_count": 9,
   "id": "2a6d55e3",
   "metadata": {},
   "outputs": [
    {
     "name": "stdout",
     "output_type": "stream",
     "text": [
      "Gesture Recognition to Estimate Latency\n",
      "Overall accuracy: 0.9232505643340858\n",
      "Latency: 0.0003s\n"
     ]
    }
   ],
   "source": [
    "total = data.shape[0]\n",
    "predictions = np.empty_like(label)\n",
    "print(\"Gesture Recognition to Estimate Latency\")\n",
    "\n",
    "start = time.time()\n",
    "for i in range(total):\n",
    "    image[0,...] = data[i]\n",
    "    job_id = dpu.execute_async(input_data, output_data)\n",
    "    dpu.wait(job_id)\n",
    "    temp = [j.reshape(1, outputSize) for j in output_data]\n",
    "    softmax = calculate_softmax(temp[0][0])\n",
    "    predictions[i] = softmax.argmax()\n",
    "\n",
    "stop = time.time()\n",
    "correct = np.sum(predictions==label)\n",
    "execution_time = stop-start\n",
    "print(\"Overall accuracy: {}\".format(correct/total))\n",
    "print(\"Latency: {:.4f}s\".format(execution_time / total))"
   ]
  },
  {
   "cell_type": "code",
   "execution_count": 10,
   "id": "30de4225",
   "metadata": {},
   "outputs": [],
   "source": [
    "del overlay\n",
    "del dpu"
   ]
  }
 ],
 "metadata": {
  "kernelspec": {
   "display_name": "Python 3",
   "language": "python",
   "name": "python3"
  },
  "language_info": {
   "codemirror_mode": {
    "name": "ipython",
    "version": 3
   },
   "file_extension": ".py",
   "mimetype": "text/x-python",
   "name": "python",
   "nbconvert_exporter": "python",
   "pygments_lexer": "ipython3",
   "version": "3.8.2"
  }
 },
 "nbformat": 4,
 "nbformat_minor": 5
}
