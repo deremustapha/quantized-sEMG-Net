{
 "cells": [
  {
   "cell_type": "code",
   "execution_count": 6,
   "metadata": {
    "collapsed": true
   },
   "outputs": [],
   "source": [
    "import os\n",
    "from biosignal_analysis_tools import *\n",
    "import numpy as np\n",
    "import pandas as pd"
   ]
  },
  {
   "cell_type": "code",
   "execution_count": 17,
   "outputs": [],
   "source": [
    "subject = 1\n",
    "data_path = \"D:\\AI-Workspace\\sEMG_Classification\\BMIS_EMG_DATA\\data\\csv_data\\subject_1\\S1_R1_G3.csv\""
   ],
   "metadata": {
    "collapsed": false,
    "pycharm": {
     "name": "#%%\n"
    }
   }
  },
  {
   "cell_type": "code",
   "execution_count": 18,
   "outputs": [],
   "source": [
    "data = pd.read_csv(data_path, header=0)"
   ],
   "metadata": {
    "collapsed": false,
    "pycharm": {
     "name": "#%%\n"
    }
   }
  },
  {
   "cell_type": "code",
   "execution_count": 19,
   "outputs": [
    {
     "data": {
      "text/plain": "   Channel_1  Channel_2  Channel_3  Channel_4  Channel_5  Channel_6  \\\n0         -4         -1         -1          8         -1         -6   \n1        -10         -4         -4          0         -4         -7   \n2          2         -1         -2         -2          2         14   \n3         -5         -5         -6         -4         -4        -12   \n4          9          1         -1         -1          2         -6   \n5         -1         -5          1          0         -1         -1   \n6         -5         -4         -5         -6         -5          8   \n7         -5        -12         -6         -5         -6        -11   \n8          1         -1         -3         -2         -2          0   \n9         -5         34         -4         -9         -6        -10   \n\n   Channel_7  Channel_8  \n0          3         -6  \n1        -26         -7  \n2        -66         -4  \n3         23         -9  \n4         54          9  \n5        -63          4  \n6         31         -2  \n7         35         -7  \n8        -45         -2  \n9         -5        -14  ",
      "text/html": "<div>\n<style scoped>\n    .dataframe tbody tr th:only-of-type {\n        vertical-align: middle;\n    }\n\n    .dataframe tbody tr th {\n        vertical-align: top;\n    }\n\n    .dataframe thead th {\n        text-align: right;\n    }\n</style>\n<table border=\"1\" class=\"dataframe\">\n  <thead>\n    <tr style=\"text-align: right;\">\n      <th></th>\n      <th>Channel_1</th>\n      <th>Channel_2</th>\n      <th>Channel_3</th>\n      <th>Channel_4</th>\n      <th>Channel_5</th>\n      <th>Channel_6</th>\n      <th>Channel_7</th>\n      <th>Channel_8</th>\n    </tr>\n  </thead>\n  <tbody>\n    <tr>\n      <th>0</th>\n      <td>-4</td>\n      <td>-1</td>\n      <td>-1</td>\n      <td>8</td>\n      <td>-1</td>\n      <td>-6</td>\n      <td>3</td>\n      <td>-6</td>\n    </tr>\n    <tr>\n      <th>1</th>\n      <td>-10</td>\n      <td>-4</td>\n      <td>-4</td>\n      <td>0</td>\n      <td>-4</td>\n      <td>-7</td>\n      <td>-26</td>\n      <td>-7</td>\n    </tr>\n    <tr>\n      <th>2</th>\n      <td>2</td>\n      <td>-1</td>\n      <td>-2</td>\n      <td>-2</td>\n      <td>2</td>\n      <td>14</td>\n      <td>-66</td>\n      <td>-4</td>\n    </tr>\n    <tr>\n      <th>3</th>\n      <td>-5</td>\n      <td>-5</td>\n      <td>-6</td>\n      <td>-4</td>\n      <td>-4</td>\n      <td>-12</td>\n      <td>23</td>\n      <td>-9</td>\n    </tr>\n    <tr>\n      <th>4</th>\n      <td>9</td>\n      <td>1</td>\n      <td>-1</td>\n      <td>-1</td>\n      <td>2</td>\n      <td>-6</td>\n      <td>54</td>\n      <td>9</td>\n    </tr>\n    <tr>\n      <th>5</th>\n      <td>-1</td>\n      <td>-5</td>\n      <td>1</td>\n      <td>0</td>\n      <td>-1</td>\n      <td>-1</td>\n      <td>-63</td>\n      <td>4</td>\n    </tr>\n    <tr>\n      <th>6</th>\n      <td>-5</td>\n      <td>-4</td>\n      <td>-5</td>\n      <td>-6</td>\n      <td>-5</td>\n      <td>8</td>\n      <td>31</td>\n      <td>-2</td>\n    </tr>\n    <tr>\n      <th>7</th>\n      <td>-5</td>\n      <td>-12</td>\n      <td>-6</td>\n      <td>-5</td>\n      <td>-6</td>\n      <td>-11</td>\n      <td>35</td>\n      <td>-7</td>\n    </tr>\n    <tr>\n      <th>8</th>\n      <td>1</td>\n      <td>-1</td>\n      <td>-3</td>\n      <td>-2</td>\n      <td>-2</td>\n      <td>0</td>\n      <td>-45</td>\n      <td>-2</td>\n    </tr>\n    <tr>\n      <th>9</th>\n      <td>-5</td>\n      <td>34</td>\n      <td>-4</td>\n      <td>-9</td>\n      <td>-6</td>\n      <td>-10</td>\n      <td>-5</td>\n      <td>-14</td>\n    </tr>\n  </tbody>\n</table>\n</div>"
     },
     "execution_count": 19,
     "metadata": {},
     "output_type": "execute_result"
    }
   ],
   "source": [
    "data.head(10)"
   ],
   "metadata": {
    "collapsed": false,
    "pycharm": {
     "name": "#%%\n"
    }
   }
  },
  {
   "cell_type": "code",
   "execution_count": 11,
   "outputs": [
    {
     "data": {
      "text/plain": "         Channel_1    Channel_2    Channel_3    Channel_4    Channel_5  \\\ncount  1578.000000  1578.000000  1578.000000  1578.000000  1578.000000   \nmean     -1.453739    -1.522814    -1.610266    -1.520279    -1.577313   \nstd       2.341910     2.357099     8.917551    12.720792     5.086884   \nmin     -10.000000   -19.000000   -34.000000   -45.000000   -17.000000   \n25%      -3.000000    -3.000000    -6.000000    -9.000000    -5.000000   \n50%      -1.000000    -1.000000    -2.000000    -3.000000    -2.000000   \n75%       0.000000     0.000000     2.000000     4.750000     1.000000   \nmax       7.000000     9.000000    48.000000    69.000000    24.000000   \n\n         Channel_6    Channel_7    Channel_8  \ncount  1578.000000  1578.000000  1578.000000  \nmean     -1.481622    -1.431559    -1.520279  \nstd       4.016608     3.346707     1.935198  \nmin     -26.000000   -14.000000    -7.000000  \n25%      -4.000000    -4.000000    -3.000000  \n50%      -1.000000    -2.000000    -2.000000  \n75%       1.000000     0.000000     0.000000  \nmax      23.000000    12.000000     6.000000  ",
      "text/html": "<div>\n<style scoped>\n    .dataframe tbody tr th:only-of-type {\n        vertical-align: middle;\n    }\n\n    .dataframe tbody tr th {\n        vertical-align: top;\n    }\n\n    .dataframe thead th {\n        text-align: right;\n    }\n</style>\n<table border=\"1\" class=\"dataframe\">\n  <thead>\n    <tr style=\"text-align: right;\">\n      <th></th>\n      <th>Channel_1</th>\n      <th>Channel_2</th>\n      <th>Channel_3</th>\n      <th>Channel_4</th>\n      <th>Channel_5</th>\n      <th>Channel_6</th>\n      <th>Channel_7</th>\n      <th>Channel_8</th>\n    </tr>\n  </thead>\n  <tbody>\n    <tr>\n      <th>count</th>\n      <td>1578.000000</td>\n      <td>1578.000000</td>\n      <td>1578.000000</td>\n      <td>1578.000000</td>\n      <td>1578.000000</td>\n      <td>1578.000000</td>\n      <td>1578.000000</td>\n      <td>1578.000000</td>\n    </tr>\n    <tr>\n      <th>mean</th>\n      <td>-1.453739</td>\n      <td>-1.522814</td>\n      <td>-1.610266</td>\n      <td>-1.520279</td>\n      <td>-1.577313</td>\n      <td>-1.481622</td>\n      <td>-1.431559</td>\n      <td>-1.520279</td>\n    </tr>\n    <tr>\n      <th>std</th>\n      <td>2.341910</td>\n      <td>2.357099</td>\n      <td>8.917551</td>\n      <td>12.720792</td>\n      <td>5.086884</td>\n      <td>4.016608</td>\n      <td>3.346707</td>\n      <td>1.935198</td>\n    </tr>\n    <tr>\n      <th>min</th>\n      <td>-10.000000</td>\n      <td>-19.000000</td>\n      <td>-34.000000</td>\n      <td>-45.000000</td>\n      <td>-17.000000</td>\n      <td>-26.000000</td>\n      <td>-14.000000</td>\n      <td>-7.000000</td>\n    </tr>\n    <tr>\n      <th>25%</th>\n      <td>-3.000000</td>\n      <td>-3.000000</td>\n      <td>-6.000000</td>\n      <td>-9.000000</td>\n      <td>-5.000000</td>\n      <td>-4.000000</td>\n      <td>-4.000000</td>\n      <td>-3.000000</td>\n    </tr>\n    <tr>\n      <th>50%</th>\n      <td>-1.000000</td>\n      <td>-1.000000</td>\n      <td>-2.000000</td>\n      <td>-3.000000</td>\n      <td>-2.000000</td>\n      <td>-1.000000</td>\n      <td>-2.000000</td>\n      <td>-2.000000</td>\n    </tr>\n    <tr>\n      <th>75%</th>\n      <td>0.000000</td>\n      <td>0.000000</td>\n      <td>2.000000</td>\n      <td>4.750000</td>\n      <td>1.000000</td>\n      <td>1.000000</td>\n      <td>0.000000</td>\n      <td>0.000000</td>\n    </tr>\n    <tr>\n      <th>max</th>\n      <td>7.000000</td>\n      <td>9.000000</td>\n      <td>48.000000</td>\n      <td>69.000000</td>\n      <td>24.000000</td>\n      <td>23.000000</td>\n      <td>12.000000</td>\n      <td>6.000000</td>\n    </tr>\n  </tbody>\n</table>\n</div>"
     },
     "execution_count": 11,
     "metadata": {},
     "output_type": "execute_result"
    }
   ],
   "source": [
    "data.describe() # Gesture 1"
   ],
   "metadata": {
    "collapsed": false,
    "pycharm": {
     "name": "#%%\n"
    }
   }
  },
  {
   "cell_type": "code",
   "execution_count": 15,
   "outputs": [
    {
     "data": {
      "text/plain": "         Channel_1    Channel_2    Channel_3    Channel_4    Channel_5  \\\ncount  1588.000000  1588.000000  1588.000000  1588.000000  1588.000000   \nmean     -1.513854    -1.839421    -2.023300    -1.365869    -1.527708   \nstd       9.821170    15.965978    35.324708    29.705363    12.830822   \nmin     -52.000000   -74.000000  -128.000000   -90.000000   -35.000000   \n25%      -6.000000   -11.000000   -23.000000   -20.000000   -10.000000   \n50%      -1.000000    -1.000000    -2.000000    -5.000000    -3.000000   \n75%       3.000000     7.000000    18.000000    13.000000     4.250000   \nmax      61.000000    65.000000   127.000000   127.000000    68.000000   \n\n         Channel_6    Channel_7   Channel_8  \ncount  1588.000000  1588.000000  1588.00000  \nmean     -1.600126    -1.559824    -1.50063  \nstd       6.135062     5.650686     7.48765  \nmin     -24.000000   -29.000000  -102.00000  \n25%      -5.000000    -5.000000    -4.00000  \n50%      -2.000000    -2.000000    -1.00000  \n75%       2.000000     1.000000     1.00000  \nmax      32.000000    35.000000    69.00000  ",
      "text/html": "<div>\n<style scoped>\n    .dataframe tbody tr th:only-of-type {\n        vertical-align: middle;\n    }\n\n    .dataframe tbody tr th {\n        vertical-align: top;\n    }\n\n    .dataframe thead th {\n        text-align: right;\n    }\n</style>\n<table border=\"1\" class=\"dataframe\">\n  <thead>\n    <tr style=\"text-align: right;\">\n      <th></th>\n      <th>Channel_1</th>\n      <th>Channel_2</th>\n      <th>Channel_3</th>\n      <th>Channel_4</th>\n      <th>Channel_5</th>\n      <th>Channel_6</th>\n      <th>Channel_7</th>\n      <th>Channel_8</th>\n    </tr>\n  </thead>\n  <tbody>\n    <tr>\n      <th>count</th>\n      <td>1588.000000</td>\n      <td>1588.000000</td>\n      <td>1588.000000</td>\n      <td>1588.000000</td>\n      <td>1588.000000</td>\n      <td>1588.000000</td>\n      <td>1588.000000</td>\n      <td>1588.00000</td>\n    </tr>\n    <tr>\n      <th>mean</th>\n      <td>-1.513854</td>\n      <td>-1.839421</td>\n      <td>-2.023300</td>\n      <td>-1.365869</td>\n      <td>-1.527708</td>\n      <td>-1.600126</td>\n      <td>-1.559824</td>\n      <td>-1.50063</td>\n    </tr>\n    <tr>\n      <th>std</th>\n      <td>9.821170</td>\n      <td>15.965978</td>\n      <td>35.324708</td>\n      <td>29.705363</td>\n      <td>12.830822</td>\n      <td>6.135062</td>\n      <td>5.650686</td>\n      <td>7.48765</td>\n    </tr>\n    <tr>\n      <th>min</th>\n      <td>-52.000000</td>\n      <td>-74.000000</td>\n      <td>-128.000000</td>\n      <td>-90.000000</td>\n      <td>-35.000000</td>\n      <td>-24.000000</td>\n      <td>-29.000000</td>\n      <td>-102.00000</td>\n    </tr>\n    <tr>\n      <th>25%</th>\n      <td>-6.000000</td>\n      <td>-11.000000</td>\n      <td>-23.000000</td>\n      <td>-20.000000</td>\n      <td>-10.000000</td>\n      <td>-5.000000</td>\n      <td>-5.000000</td>\n      <td>-4.00000</td>\n    </tr>\n    <tr>\n      <th>50%</th>\n      <td>-1.000000</td>\n      <td>-1.000000</td>\n      <td>-2.000000</td>\n      <td>-5.000000</td>\n      <td>-3.000000</td>\n      <td>-2.000000</td>\n      <td>-2.000000</td>\n      <td>-1.00000</td>\n    </tr>\n    <tr>\n      <th>75%</th>\n      <td>3.000000</td>\n      <td>7.000000</td>\n      <td>18.000000</td>\n      <td>13.000000</td>\n      <td>4.250000</td>\n      <td>2.000000</td>\n      <td>1.000000</td>\n      <td>1.00000</td>\n    </tr>\n    <tr>\n      <th>max</th>\n      <td>61.000000</td>\n      <td>65.000000</td>\n      <td>127.000000</td>\n      <td>127.000000</td>\n      <td>68.000000</td>\n      <td>32.000000</td>\n      <td>35.000000</td>\n      <td>69.00000</td>\n    </tr>\n  </tbody>\n</table>\n</div>"
     },
     "execution_count": 15,
     "metadata": {},
     "output_type": "execute_result"
    }
   ],
   "source": [
    "data.describe() # Gesture 2"
   ],
   "metadata": {
    "collapsed": false,
    "pycharm": {
     "name": "#%%\n"
    }
   }
  },
  {
   "cell_type": "code",
   "execution_count": 16,
   "outputs": [
    {
     "data": {
      "text/plain": "Channel_1      96.455385\nChannel_2     254.912446\nChannel_3    1247.834996\nChannel_4     882.408589\nChannel_5     164.629982\nChannel_6      37.638992\nChannel_7      31.930256\nChannel_8      56.064902\ndtype: float64"
     },
     "execution_count": 16,
     "metadata": {},
     "output_type": "execute_result"
    }
   ],
   "source": [
    "data.var()"
   ],
   "metadata": {
    "collapsed": false,
    "pycharm": {
     "name": "#%%\n"
    }
   }
  },
  {
   "cell_type": "code",
   "execution_count": 20,
   "outputs": [
    {
     "data": {
      "text/plain": "Channel_1     14.928965\nChannel_2      6.697533\nChannel_3     13.361462\nChannel_4     58.124017\nChannel_5     19.284848\nChannel_6     81.807359\nChannel_7    669.093834\nChannel_8     36.306335\ndtype: float64"
     },
     "execution_count": 20,
     "metadata": {},
     "output_type": "execute_result"
    }
   ],
   "source": [
    "data.var()"
   ],
   "metadata": {
    "collapsed": false,
    "pycharm": {
     "name": "#%%\n"
    }
   }
  },
  {
   "cell_type": "code",
   "execution_count": null,
   "outputs": [],
   "source": [],
   "metadata": {
    "collapsed": false,
    "pycharm": {
     "name": "#%%\n"
    }
   }
  }
 ],
 "metadata": {
  "kernelspec": {
   "display_name": "Python 3",
   "language": "python",
   "name": "python3"
  },
  "language_info": {
   "codemirror_mode": {
    "name": "ipython",
    "version": 2
   },
   "file_extension": ".py",
   "mimetype": "text/x-python",
   "name": "python",
   "nbconvert_exporter": "python",
   "pygments_lexer": "ipython2",
   "version": "2.7.6"
  }
 },
 "nbformat": 4,
 "nbformat_minor": 0
}