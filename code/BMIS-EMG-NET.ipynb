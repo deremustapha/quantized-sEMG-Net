{
 "cells": [
  {
   "cell_type": "code",
   "execution_count": 1,
   "id": "4df829fb",
   "metadata": {},
   "outputs": [],
   "source": [
    "import tensorflow as tf\n",
    "import numpy as np\n",
    "import matplotlib.pyplot as plt\n",
    "from bmis_emg_utils import * "
   ]
  },
  {
   "cell_type": "code",
   "execution_count": null,
   "id": "c9fd6331",
   "metadata": {},
   "outputs": [],
   "source": []
  },
  {
   "cell_type": "code",
   "execution_count": 2,
   "id": "97d9946d",
   "metadata": {},
   "outputs": [
    {
     "name": "stdout",
     "output_type": "stream",
     "text": [
      "The total data shape is (8, 398684) and label is (398684, 1)\n"
     ]
    }
   ],
   "source": [
    "subjects = 6\n",
    "data, label = get_emg_data(subjects)\n",
    "print('The total data shape is {} and label is {}'.format(data.shape, label.shape))"
   ]
  },
  {
   "cell_type": "code",
   "execution_count": 3,
   "id": "2a6fde3a",
   "metadata": {},
   "outputs": [],
   "source": [
    "data = standardize_data(data, axis=1)"
   ]
  },
  {
   "cell_type": "code",
   "execution_count": 4,
   "id": "5ff172fd",
   "metadata": {},
   "outputs": [
    {
     "name": "stdout",
     "output_type": "stream",
     "text": [
      "The total Input data shape after windowing is (33221, 8, 40) and label is (33221, 1)\n"
     ]
    }
   ],
   "source": [
    "X, y = window_with_overlap(data, label, window_time=200, overlap=70)\n",
    "print('The total Input data shape after windowing is {} and label is {}'.format(X.shape, y.shape))"
   ]
  },
  {
   "cell_type": "code",
   "execution_count": 5,
   "id": "0aceb47f",
   "metadata": {},
   "outputs": [
    {
     "name": "stdout",
     "output_type": "stream",
     "text": [
      "Training Set is(29898, 8, 40) Test Set (3323, 8, 40)\n"
     ]
    }
   ],
   "source": [
    "XX_train, yy_train, XX_test, yy_test = spilt_data(X, y, ratio=0.1)\n",
    "print('Training Set is{} Test Set {}'.format(XX_train.shape, XX_test.shape))"
   ]
  },
  {
   "cell_type": "code",
   "execution_count": 6,
   "id": "d2f27b75",
   "metadata": {},
   "outputs": [
    {
     "name": "stdout",
     "output_type": "stream",
     "text": [
      "Expanded Dimension are (29898, 8, 40, 1)\n",
      "(8, 40, 1)\n"
     ]
    }
   ],
   "source": [
    "# Expanding the input feature shape\n",
    "\n",
    "XX_train = np.expand_dims(XX_train, axis=3)\n",
    "XX_test = np.expand_dims(XX_test, axis=3)\n",
    "print('Expanded Dimension are {}'.format(XX_train.shape))\n",
    "input_size = XX_train.shape[1:]\n",
    "print(input_size)"
   ]
  },
  {
   "cell_type": "code",
   "execution_count": 7,
   "id": "47663076",
   "metadata": {},
   "outputs": [
    {
     "name": "stdout",
     "output_type": "stream",
     "text": [
      "Model: \"sEMG-classfier\"\n",
      "_________________________________________________________________\n",
      "Layer (type)                 Output Shape              Param #   \n",
      "=================================================================\n",
      "input_1 (InputLayer)         [(None, 8, 40, 1)]        0         \n",
      "_________________________________________________________________\n",
      "conv2d (Conv2D)              (None, 6, 38, 6)          60        \n",
      "_________________________________________________________________\n",
      "conv2d_1 (Conv2D)            (None, 4, 36, 32)         1760      \n",
      "_________________________________________________________________\n",
      "max_pooling2d (MaxPooling2D) (None, 2, 18, 32)         0         \n",
      "_________________________________________________________________\n",
      "dropout (Dropout)            (None, 2, 18, 32)         0         \n",
      "_________________________________________________________________\n",
      "flatten (Flatten)            (None, 1152)              0         \n",
      "_________________________________________________________________\n",
      "dense (Dense)                (None, 151)               174103    \n",
      "_________________________________________________________________\n",
      "dense_1 (Dense)              (None, 7)                 1064      \n",
      "=================================================================\n",
      "Total params: 176,987\n",
      "Trainable params: 176,987\n",
      "Non-trainable params: 0\n",
      "_________________________________________________________________\n"
     ]
    }
   ],
   "source": [
    "inputs = tf.keras.Input(shape=input_size)\n",
    "x = tf.keras.layers.Conv2D(6, 3, activation=\"relu\", input_shape=input_size)(inputs)\n",
    "x = tf.keras.layers.Conv2D(32, 3, activation=\"relu\")(x)\n",
    "x = tf.keras.layers.MaxPool2D((2,2))(x)\n",
    "x = tf.keras.layers.Dropout(0.5)(x)\n",
    "x = tf.keras.layers.Flatten()(x)\n",
    "x = tf.keras.layers.Dense(151, activation='relu')(x)\n",
    "outputs = tf.keras.layers.Dense(7, activation='softmax')(x)\n",
    "model = tf.keras.Model(inputs=inputs, outputs=outputs, name=\"sEMG-classfier\")\n",
    "model.summary()"
   ]
  },
  {
   "cell_type": "code",
   "execution_count": 8,
   "id": "97f58302",
   "metadata": {},
   "outputs": [],
   "source": [
    "lr = 0.001\n",
    "opt = tf.keras.optimizers.Adam(learning_rate=lr, epsilon=1e-07, clipnorm=1)\n",
    "ls = 'sparse_categorical_crossentropy'\n",
    "mtr = 'accuracy'\n",
    "n_batches = 15\n",
    "n_epochs = 10\n",
    "model.compile(optimizer=opt, loss=ls, metrics=mtr)"
   ]
  },
  {
   "cell_type": "code",
   "execution_count": 9,
   "id": "18959ec9",
   "metadata": {},
   "outputs": [
    {
     "name": "stdout",
     "output_type": "stream",
     "text": [
      "Epoch 1/10\n",
      "1994/1994 [==============================] - 12s 5ms/step - loss: 1.2087 - accuracy: 0.5126 - val_loss: 0.8178 - val_accuracy: 0.6930\n",
      "Epoch 2/10\n",
      "1994/1994 [==============================] - 11s 5ms/step - loss: 0.7368 - accuracy: 0.7175 - val_loss: 0.5746 - val_accuracy: 0.7812\n",
      "Epoch 3/10\n",
      "1994/1994 [==============================] - 10s 5ms/step - loss: 0.5795 - accuracy: 0.7814 - val_loss: 0.4462 - val_accuracy: 0.8372\n",
      "Epoch 4/10\n",
      "1994/1994 [==============================] - 11s 5ms/step - loss: 0.4925 - accuracy: 0.8166 - val_loss: 0.4058 - val_accuracy: 0.8534\n",
      "Epoch 5/10\n",
      "1994/1994 [==============================] - 11s 5ms/step - loss: 0.4435 - accuracy: 0.8391 - val_loss: 0.3621 - val_accuracy: 0.8733\n",
      "Epoch 6/10\n",
      "1994/1994 [==============================] - 11s 5ms/step - loss: 0.4062 - accuracy: 0.8562 - val_loss: 0.3642 - val_accuracy: 0.8724\n",
      "Epoch 7/10\n",
      "1994/1994 [==============================] - 11s 5ms/step - loss: 0.3770 - accuracy: 0.8646 - val_loss: 0.3163 - val_accuracy: 0.8887\n",
      "Epoch 8/10\n",
      "1994/1994 [==============================] - 11s 6ms/step - loss: 0.3419 - accuracy: 0.8778 - val_loss: 0.2795 - val_accuracy: 0.9004\n",
      "Epoch 9/10\n",
      "1994/1994 [==============================] - 11s 5ms/step - loss: 0.3260 - accuracy: 0.8855 - val_loss: 0.2836 - val_accuracy: 0.8974\n",
      "Epoch 10/10\n",
      "1994/1994 [==============================] - 11s 5ms/step - loss: 0.3153 - accuracy: 0.8895 - val_loss: 0.2704 - val_accuracy: 0.9097\n"
     ]
    }
   ],
   "source": [
    "history = model.fit(XX_train, yy_train, validation_data=(XX_test, yy_test), batch_size=n_batches, epochs= n_epochs)"
   ]
  },
  {
   "cell_type": "code",
   "execution_count": 10,
   "id": "e5a72728",
   "metadata": {
    "scrolled": true
   },
   "outputs": [
    {
     "data": {
      "image/png": "[encoded data removed]",
      "text/plain": [
       "<Figure size 576x576 with 2 Axes>"
      ]
     },
     "metadata": {
      "needs_background": "light"
     },
     "output_type": "display_data"
    }
   ],
   "source": [
    "validation_loss = history.history['val_loss']\n",
    "training_loss = history.history['loss']\n",
    "\n",
    "validation_accuracy = history.history['val_accuracy']\n",
    "training_accuracy = history.history['accuracy']\n",
    "\n",
    "epoch_range = range(n_epochs)\n",
    "plt.figure(figsize=(8,8))\n",
    "\n",
    "plt.subplot(1, 2, 1)\n",
    "plt.plot(epoch_range, training_accuracby, label = \"Training Accuracy\")\n",
    "plt.plot(epoch_range, validation_accuracy, label = \"Validation Accuracy\")\n",
    "plt.legend(loc=\"lower right\")\n",
    "plt.title(\"Training and Validation Accuracy\")\n",
    "\n",
    "plt.subplot(1, 2, 2)\n",
    "plt.plot(epoch_range, training_loss, label = \"Training Loss\")\n",
    "plt.plot(epoch_range, validation_loss, label = \"Validation Loss\")\n",
    "plt.legend(loc=\"upper right\")\n",
    "plt.title(\"Training and Validation Loss\")\n",
    "plt.show()"
   ]
  }
 ],
 "metadata": {
  "kernelspec": {
   "display_name": "ml_tf_ven",
   "language": "python",
   "name": "ml_tf_ven"
  },
  "language_info": {
   "codemirror_mode": {
    "name": "ipython",
    "version": 3
   },
   "file_extension": ".py",
   "mimetype": "text/x-python",
   "name": "python",
   "nbconvert_exporter": "python",
   "pygments_lexer": "ipython3",
   "version": "3.8.11"
  }
 },
 "nbformat": 4,
 "nbformat_minor": 5
}
