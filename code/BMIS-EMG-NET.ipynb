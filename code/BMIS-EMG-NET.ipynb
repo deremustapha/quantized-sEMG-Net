{
 "cells": [
  {
   "cell_type": "code",
   "execution_count": 18,
   "id": "4df829fb",
   "metadata": {},
   "outputs": [],
   "source": [
    "import tensorflow as tf\n",
    "import numpy as np\n",
    "import matplotlib.pyplot as plt\n",
    "from bmis_emg_utils import * \n",
    "from tensorflow_model_optimization.quantization.keras import vitis_quantize"
   ]
  },
  {
   "cell_type": "code",
   "execution_count": 2,
   "id": "97d9946d",
   "metadata": {},
   "outputs": [
    {
     "name": "stdout",
     "output_type": "stream",
     "text": [
      "The total data shape is (8, 397106) and label is (397106, 1)\n"
     ]
    }
   ],
   "source": [
    "subjects = 6\n",
    "data, label = get_emg_data(subjects)\n",
    "print('The total data shape is {} and label is {}'.format(data.shape, label.shape))"
   ]
  },
  {
   "cell_type": "code",
   "execution_count": 3,
   "id": "2a6fde3a",
   "metadata": {},
   "outputs": [],
   "source": [
    "data = standardize_data(data, axis=1)"
   ]
  },
  {
   "cell_type": "code",
   "execution_count": 4,
   "id": "5ff172fd",
   "metadata": {},
   "outputs": [
    {
     "name": "stdout",
     "output_type": "stream",
     "text": [
      "The total Input data shape after windowing is (33089, 8, 40) and label is (33089, 1)\n"
     ]
    }
   ],
   "source": [
    "X, y = window_with_overlap(data, label, window_time=200, overlap=70)\n",
    "print('The total Input data shape after windowing is {} and label is {}'.format(X.shape, y.shape))"
   ]
  },
  {
   "cell_type": "code",
   "execution_count": 6,
   "id": "0aceb47f",
   "metadata": {},
   "outputs": [
    {
     "name": "stdout",
     "output_type": "stream",
     "text": [
      "Training Set is(29780, 8, 40) Test Set (3309, 8, 40)\n"
     ]
    }
   ],
   "source": [
    "X_train, y_train, X_test, y_test = spilt_data(X, y, ratio=0.1)\n",
    "print('Training Set is{} Test Set {}'.format(X_train.shape, X_test.shape))"
   ]
  },
  {
   "cell_type": "code",
   "execution_count": 7,
   "id": "d2f27b75",
   "metadata": {},
   "outputs": [
    {
     "name": "stdout",
     "output_type": "stream",
     "text": [
      "Expanded Dimension are (29780, 8, 40, 1)\n",
      "(8, 40, 1)\n"
     ]
    }
   ],
   "source": [
    "# Expanding the input feature shape\n",
    "\n",
    "X_train = np.expand_dims(X_train, axis=3)\n",
    "X_test = np.expand_dims(X_test, axis=3)\n",
    "print('Expanded Dimension are {}'.format(X_train.shape))\n",
    "input_size = X_train.shape[1:]\n",
    "print(input_size)"
   ]
  },
  {
   "cell_type": "code",
   "execution_count": 8,
   "id": "47663076",
   "metadata": {},
   "outputs": [
    {
     "name": "stderr",
     "output_type": "stream",
     "text": [
      "2022-05-26 21:19:45.695300: W tensorflow/stream_executor/platform/default/dso_loader.cc:59] Could not load dynamic library 'libcuda.so.1'; dlerror: libcuda.so.1: cannot open shared object file: No such file or directory; LD_LIBRARY_PATH: /opt/xilinx/xrt/lib:/usr/lib:/usr/lib/x86_64-linux-gnu:/usr/local/lib:/opt/vitis_ai/conda/envs/vitis-ai-tensorflow/lib\n",
      "2022-05-26 21:19:45.695353: W tensorflow/stream_executor/cuda/cuda_driver.cc:312] failed call to cuInit: UNKNOWN ERROR (303)\n",
      "2022-05-26 21:19:45.695404: I tensorflow/stream_executor/cuda/cuda_diagnostics.cc:156] kernel driver does not appear to be running on this host (bmis-HP-Pavilion-Notebook): /proc/driver/nvidia/version does not exist\n",
      "2022-05-26 21:19:45.696048: I tensorflow/core/platform/cpu_feature_guard.cc:142] This TensorFlow binary is optimized with oneAPI Deep Neural Network Library (oneDNN)to use the following CPU instructions in performance-critical operations:  AVX2 FMA\n",
      "To enable them in other operations, rebuild TensorFlow with the appropriate compiler flags.\n",
      "2022-05-26 21:19:45.866093: I tensorflow/core/platform/profile_utils/cpu_utils.cc:104] CPU Frequency: 2599990000 Hz\n",
      "2022-05-26 21:19:45.867520: I tensorflow/compiler/xla/service/service.cc:168] XLA service 0x55c30c4338f0 initialized for platform Host (this does not guarantee that XLA will be used). Devices:\n",
      "2022-05-26 21:19:45.867557: I tensorflow/compiler/xla/service/service.cc:176]   StreamExecutor device (0): Host, Default Version\n"
     ]
    },
    {
     "name": "stdout",
     "output_type": "stream",
     "text": [
      "Model: \"BMIS-ENG-NET\"\n",
      "_________________________________________________________________\n",
      "Layer (type)                 Output Shape              Param #   \n",
      "=================================================================\n",
      "input_1 (InputLayer)         [(None, 8, 40, 1)]        0         \n",
      "_________________________________________________________________\n",
      "conv2d (Conv2D)              (None, 6, 38, 6)          60        \n",
      "_________________________________________________________________\n",
      "conv2d_1 (Conv2D)            (None, 4, 36, 32)         1760      \n",
      "_________________________________________________________________\n",
      "max_pooling2d (MaxPooling2D) (None, 2, 18, 32)         0         \n",
      "_________________________________________________________________\n",
      "dropout (Dropout)            (None, 2, 18, 32)         0         \n",
      "_________________________________________________________________\n",
      "flatten (Flatten)            (None, 1152)              0         \n",
      "_________________________________________________________________\n",
      "dense (Dense)                (None, 151)               174103    \n",
      "_________________________________________________________________\n",
      "dense_1 (Dense)              (None, 7)                 1064      \n",
      "=================================================================\n",
      "Total params: 176,987\n",
      "Trainable params: 176,987\n",
      "Non-trainable params: 0\n",
      "_________________________________________________________________\n"
     ]
    }
   ],
   "source": [
    "inputs = tf.keras.Input(shape=input_size)\n",
    "x = tf.keras.layers.Conv2D(6, 3, activation=\"relu\", input_shape=input_size)(inputs)\n",
    "x = tf.keras.layers.Conv2D(32, 3, activation=\"relu\")(x)\n",
    "x = tf.keras.layers.MaxPool2D((2,2))(x)\n",
    "x = tf.keras.layers.Dropout(0.5)(x)\n",
    "x = tf.keras.layers.Flatten()(x)\n",
    "x = tf.keras.layers.Dense(151, activation='relu')(x)\n",
    "outputs = tf.keras.layers.Dense(7, activation='softmax')(x)\n",
    "model = tf.keras.Model(inputs=inputs, outputs=outputs, name=\"BMIS-ENG-NET\")\n",
    "model.summary()"
   ]
  },
  {
   "cell_type": "code",
   "execution_count": 9,
   "id": "97f58302",
   "metadata": {},
   "outputs": [],
   "source": [
    "lr = 0.001\n",
    "opt = tf.keras.optimizers.Adam(learning_rate=lr, epsilon=1e-07, clipnorm=1)\n",
    "ls = 'sparse_categorical_crossentropy'\n",
    "mtr = 'accuracy'\n",
    "n_batches = 15\n",
    "n_epochs = 10\n",
    "model.compile(optimizer=opt, loss=ls, metrics=mtr)"
   ]
  },
  {
   "cell_type": "code",
   "execution_count": 10,
   "id": "18959ec9",
   "metadata": {},
   "outputs": [
    {
     "name": "stderr",
     "output_type": "stream",
     "text": [
      "2022-05-26 21:20:13.692842: W tensorflow/core/framework/cpu_allocator_impl.cc:81] Allocation of 38118400 exceeds 10% of free system memory.\n"
     ]
    },
    {
     "name": "stdout",
     "output_type": "stream",
     "text": [
      "Epoch 1/10\n",
      "1986/1986 [==============================] - 9s 5ms/step - loss: 1.2376 - accuracy: 0.4979 - val_loss: 0.7809 - val_accuracy: 0.6875\n",
      "Epoch 2/10\n",
      "1986/1986 [==============================] - 11s 5ms/step - loss: 0.7282 - accuracy: 0.7211 - val_loss: 0.5362 - val_accuracy: 0.7927\n",
      "Epoch 3/10\n",
      "1986/1986 [==============================] - 10s 5ms/step - loss: 0.5695 - accuracy: 0.7869 - val_loss: 0.4383 - val_accuracy: 0.8383\n",
      "Epoch 4/10\n",
      "1986/1986 [==============================] - 10s 5ms/step - loss: 0.4848 - accuracy: 0.8210 - val_loss: 0.3979 - val_accuracy: 0.8634\n",
      "Epoch 5/10\n",
      "1986/1986 [==============================] - 9s 5ms/step - loss: 0.4339 - accuracy: 0.8415 - val_loss: 0.3814 - val_accuracy: 0.8622\n",
      "Epoch 6/10\n",
      "1986/1986 [==============================] - 9s 5ms/step - loss: 0.3957 - accuracy: 0.8527 - val_loss: 0.3376 - val_accuracy: 0.8830\n",
      "Epoch 7/10\n",
      "1986/1986 [==============================] - 9s 5ms/step - loss: 0.3676 - accuracy: 0.8689 - val_loss: 0.3249 - val_accuracy: 0.8876\n",
      "Epoch 8/10\n",
      "1986/1986 [==============================] - 12s 6ms/step - loss: 0.3410 - accuracy: 0.8784 - val_loss: 0.3005 - val_accuracy: 0.8979\n",
      "Epoch 9/10\n",
      "1986/1986 [==============================] - 10s 5ms/step - loss: 0.3203 - accuracy: 0.8855 - val_loss: 0.3160 - val_accuracy: 0.8936\n",
      "Epoch 10/10\n",
      "1986/1986 [==============================] - 9s 4ms/step - loss: 0.3096 - accuracy: 0.8896 - val_loss: 0.3067 - val_accuracy: 0.8939\n"
     ]
    }
   ],
   "source": [
    "history = model.fit(X_train, y_train, validation_data=(X_test, y_test), batch_size=n_batches, epochs= n_epochs)"
   ]
  },
  {
   "cell_type": "code",
   "execution_count": 12,
   "id": "e5a72728",
   "metadata": {
    "scrolled": false
   },
   "outputs": [
    {
     "data": {
      "image/png": "[encoded data removed]",
      "text/plain": [
       "<Figure size 576x576 with 2 Axes>"
      ]
     },
     "metadata": {
      "needs_background": "light"
     },
     "output_type": "display_data"
    }
   ],
   "source": [
    "validation_loss = history.history['val_loss']\n",
    "training_loss = history.history['loss']\n",
    "\n",
    "validation_accuracy = history.history['val_accuracy']\n",
    "training_accuracy = history.history['accuracy']\n",
    "\n",
    "epoch_range = range(n_epochs)\n",
    "plt.figure(figsize=(8,8))\n",
    "\n",
    "plt.subplot(1, 2, 1)\n",
    "plt.plot(epoch_range, training_accuracy, label = \"Training Accuracy\")\n",
    "plt.plot(epoch_range, validation_accuracy, label = \"Validation Accuracy\")\n",
    "plt.legend(loc=\"lower right\")\n",
    "plt.title(\"Training and Validation Accuracy\")\n",
    "\n",
    "plt.subplot(1, 2, 2)\n",
    "plt.plot(epoch_range, training_loss, label = \"Training Loss\")\n",
    "plt.plot(epoch_range, validation_loss, label = \"Validation Loss\")\n",
    "plt.legend(loc=\"upper right\")\n",
    "plt.title(\"Training and Validation Loss\")\n",
    "plt.show()"
   ]
  },
  {
   "cell_type": "code",
   "execution_count": 13,
   "id": "7485bb94",
   "metadata": {},
   "outputs": [],
   "source": [
    "saved_model = \"BMIS-EMG-NET.h5\" \n",
    "model.save(saved_model)"
   ]
  },
  {
   "cell_type": "markdown",
   "id": "fa386436",
   "metadata": {},
   "source": [
    "4. Quantization"
   ]
  },
  {
   "cell_type": "code",
   "execution_count": 15,
   "id": "958cab79",
   "metadata": {},
   "outputs": [],
   "source": [
    "calibration_dataset = X_train[0:1000] # Note a minumum of 100 is needed and a maximum of 1000\n",
    "evaluation_dataset = X_train[1000:]\n",
    "evaluation_dataset_gnd = y_train[1000:]"
   ]
  },
  {
   "cell_type": "code",
   "execution_count": 19,
   "id": "2800219c",
   "metadata": {
    "scrolled": true
   },
   "outputs": [
    {
     "name": "stdout",
     "output_type": "stream",
     "text": [
      "[VAI INFO] Start CrossLayerEqualization...\n",
      "10/10 [==============================] - 1s 63ms/step\n",
      "[VAI INFO] CrossLayerEqualization Done.\n",
      "[VAI INFO] Start Quantize Calibration...\n",
      "32/32 [==============================] - 1s 17ms/step\n",
      "[VAI INFO] Quantize Calibration Done.\n",
      "[VAI INFO] Start Post-Quantize Adjustment...\n",
      "[VAI INFO] Post-Quantize Adjustment Done.\n",
      "[VAI INFO] Quantization Finished.\n"
     ]
    }
   ],
   "source": [
    "saved_float32_model = tf.keras.models.load_model(saved_model)\n",
    "ptq_quantizer = vitis_quantize.VitisQuantizer(saved_float32_model)\n",
    "ptq_quantized_model = ptq_quantizer.quantize_model(calib_dataset=calibration_dataset)"
   ]
  },
  {
   "cell_type": "code",
   "execution_count": 20,
   "id": "fcab87af",
   "metadata": {
    "scrolled": true
   },
   "outputs": [
    {
     "name": "stderr",
     "output_type": "stream",
     "text": [
      "2022-05-26 21:28:51.399676: W tensorflow/core/framework/cpu_allocator_impl.cc:81] Allocation of 36838400 exceeds 10% of free system memory.\n"
     ]
    },
    {
     "name": "stdout",
     "output_type": "stream",
     "text": [
      "900/900 [==============================] - 3s 3ms/step - loss: 0.1698 - accuracy: 0.9413\n"
     ]
    },
    {
     "data": {
      "text/plain": [
       "[0.16983483731746674, 0.9412786364555359]"
      ]
     },
     "execution_count": 20,
     "metadata": {},
     "output_type": "execute_result"
    }
   ],
   "source": [
    "# Evalauting Post training quantization\n",
    "\n",
    "ptq_quantized_model.compile(loss=ls, metrics=mtr)\n",
    "ptq_quantized_model.evaluate(evaluation_dataset, evaluation_dataset_gnd)"
   ]
  },
  {
   "cell_type": "code",
   "execution_count": 21,
   "id": "df7f012d",
   "metadata": {},
   "outputs": [],
   "source": [
    "# Saving post training quantization\n",
    "\n",
    "quantized_model = \"qunatized_BMIS-EMG-NET.h5\"\n",
    "ptq_quantized_model.save(quantized_model)"
   ]
  },
  {
   "cell_type": "markdown",
   "id": "4bed7f26",
   "metadata": {},
   "source": [
    "5. Compiling"
   ]
  },
  {
   "cell_type": "code",
   "execution_count": 22,
   "id": "8407729e",
   "metadata": {},
   "outputs": [
    {
     "name": "stdout",
     "output_type": "stream",
     "text": [
      "**************************************************\n",
      "* VITIS_AI Compilation - Xilinx Inc.\n",
      "**************************************************\n",
      "[INFO] Namespace(batchsize=1, inputs_shape=None, layout='NHWC', model_files=['./qunatized_BMIS-EMG-NET.h5'], model_type='tensorflow2', named_inputs_shape=None, out_filename='/tmp/model_org.xmodel', proto=None)\n",
      "[INFO] tensorflow2 model: /workspace/quantized-sEMG-Net/code/qunatized_BMIS-EMG-NET.h5\n",
      "[INFO] keras version: 2.4.0\n",
      "[INFO] Tensorflow Keras model type: functional\n",
      "[INFO] parse raw model     :100%|█| 12/12 [00:00<00:00, 5825.42it/s]            \n",
      "[INFO] infer shape (NHWC)  :100%|█| 21/21 [00:00<00:00, 1467.76it/s]            \n",
      "[INFO] perform level-0 opt :100%|█| 2/2 [00:00<00:00, 145.14it/s]               \n",
      "[INFO] perform level-1 opt :100%|█| 2/2 [00:00<00:00, 526.33it/s]               \n",
      "[INFO] generate xmodel     :100%|█| 21/21 [00:00<00:00, 408.81it/s]             \n",
      "[INFO] dump xmodel: /tmp/model_org.xmodel\n",
      "[UNILOG][INFO] Compile mode: dpu\n",
      "[UNILOG][INFO] Debug mode: function\n",
      "[UNILOG][INFO] Target architecture: DPUCZDX8G_ISA0_B2304_MAX_BG2\n",
      "[UNILOG][INFO] Graph name: BMIS-ENG-NET, with op num: 33\n",
      "[UNILOG][INFO] Begin to compile...\n",
      "[UNILOG][INFO] Total device subgraph number 3, DPU subgraph number 1\n",
      "[UNILOG][INFO] Compile done.\n",
      "[UNILOG][INFO] The meta json is saved to \"/workspace/quantized-sEMG-Net/code/./meta.json\"\n",
      "[UNILOG][INFO] The compiled xmodel is saved to \"/workspace/quantized-sEMG-Net/code/./model.xmodel\"\n",
      "[UNILOG][INFO] The compiled xmodel's md5sum is d5ad8029cd364914210b9f152aebed2d, and has been saved to \"/workspace/quantized-sEMG-Net/code/./md5sum.txt\"\n"
     ]
    }
   ],
   "source": [
    "!vai_c_tensorflow2 \\\n",
    "    --model ./qunatized_BMIS-EMG-NET.h5 \\\n",
    "    --arch ./arch.json \\\n",
    "    --output_dir . \\\n",
    "    --net_name model"
   ]
  }
 ],
 "metadata": {
  "kernelspec": {
   "display_name": "Python 3 (ipykernel)",
   "language": "python",
   "name": "python3"
  },
  "language_info": {
   "codemirror_mode": {
    "name": "ipython",
    "version": 3
   },
   "file_extension": ".py",
   "mimetype": "text/x-python",
   "name": "python",
   "nbconvert_exporter": "python",
   "pygments_lexer": "ipython3",
   "version": "3.7.10"
  }
 },
 "nbformat": 4,
 "nbformat_minor": 5
}
