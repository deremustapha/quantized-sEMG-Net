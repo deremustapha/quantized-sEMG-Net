{
 "cells": [
  {
   "cell_type": "code",
   "execution_count": 2,
   "id": "4df829fb",
   "metadata": {},
   "outputs": [],
   "source": [
    "import tensorflow as tf\n",
    "import numpy as np\n",
    "import matplotlib.pyplot as plt\n",
    "from bmis_emg_utils import * "
   ]
  },
  {
   "cell_type": "code",
   "execution_count": 13,
   "id": "c9fd6331",
   "metadata": {},
   "outputs": [],
   "source": []
  },
  {
   "cell_type": "code",
   "execution_count": 3,
   "id": "97d9946d",
   "metadata": {},
   "outputs": [
    {
     "name": "stdout",
     "output_type": "stream",
     "text": [
      "The total data shape is (8, 199068) and label is (1, 199068)\n"
     ]
    }
   ],
   "source": [
    "subjects = 3\n",
    "data, label = get_emg_data(subjects)\n",
    "print('The total data shape is {} and label is {}'.format(data.shape, label.shape))"
   ]
  },
  {
   "cell_type": "code",
   "execution_count": 5,
   "id": "5ff172fd",
   "metadata": {},
   "outputs": [
    {
     "name": "stdout",
     "output_type": "stream",
     "text": [
      "The total Input data shape after windowing is (49757, 8, 40) and label is (49757, 1)\n"
     ]
    }
   ],
   "source": [
    "X, y = window_with_overlap(data, label)\n",
    "print('The total Input data shape after windowing is {} and label is {}'.format(X.shape, y.shape))"
   ]
  },
  {
   "cell_type": "code",
   "execution_count": 6,
   "id": "0aceb47f",
   "metadata": {},
   "outputs": [
    {
     "name": "stdout",
     "output_type": "stream",
     "text": [
      "Training Set is(44781, 8, 40) Test Set (4976, 8, 40)\n"
     ]
    }
   ],
   "source": [
    "XX_train, yy_train, XX_test, yy_test = spilt_data(X, y, ratio=0.1)\n",
    "print('Training Set is{} Test Set {}'.format(XX_train.shape, XX_test.shape))"
   ]
  },
  {
   "cell_type": "code",
   "execution_count": 7,
   "id": "d2f27b75",
   "metadata": {},
   "outputs": [
    {
     "name": "stdout",
     "output_type": "stream",
     "text": [
      "Expanded Dimension are (44781, 8, 40, 1)\n",
      "(8, 40, 1)\n"
     ]
    }
   ],
   "source": [
    "# Expanding the input feature shape\n",
    "\n",
    "XX_train = np.expand_dims(XX_train, axis=3)\n",
    "XX_test = np.expand_dims(XX_test, axis=3)\n",
    "print('Expanded Dimension are {}'.format(XX_train.shape))\n",
    "input_size = XX_train.shape[1:]\n",
    "print(input_size)"
   ]
  },
  {
   "cell_type": "code",
   "execution_count": 8,
   "id": "47663076",
   "metadata": {},
   "outputs": [
    {
     "name": "stdout",
     "output_type": "stream",
     "text": [
      "Model: \"sEMG-classfier\"\n",
      "_________________________________________________________________\n",
      "Layer (type)                 Output Shape              Param #   \n",
      "=================================================================\n",
      "input_1 (InputLayer)         [(None, 8, 40, 1)]        0         \n",
      "_________________________________________________________________\n",
      "conv2d (Conv2D)              (None, 6, 38, 6)          60        \n",
      "_________________________________________________________________\n",
      "conv2d_1 (Conv2D)            (None, 4, 36, 32)         1760      \n",
      "_________________________________________________________________\n",
      "conv2d_2 (Conv2D)            (None, 2, 34, 16)         4624      \n",
      "_________________________________________________________________\n",
      "flatten (Flatten)            (None, 1088)              0         \n",
      "_________________________________________________________________\n",
      "dense (Dense)                (None, 1500)              1633500   \n",
      "_________________________________________________________________\n",
      "dense_1 (Dense)              (None, 151)               226651    \n",
      "_________________________________________________________________\n",
      "dense_2 (Dense)              (None, 17)                2584      \n",
      "_________________________________________________________________\n",
      "dense_3 (Dense)              (None, 7)                 126       \n",
      "=================================================================\n",
      "Total params: 1,869,305\n",
      "Trainable params: 1,869,305\n",
      "Non-trainable params: 0\n",
      "_________________________________________________________________\n"
     ]
    }
   ],
   "source": [
    "inputs = tf.keras.Input(shape=input_size)\n",
    "x = tf.keras.layers.Conv2D(6, 3, activation=\"relu\", input_shape=input_size)(inputs)\n",
    "x = tf.keras.layers.Conv2D(32, 3, activation=\"relu\")(x)\n",
    "x = tf.keras.layers.Conv2D(16, 3, activation=\"relu\")(x)\n",
    "x = tf.keras.layers.Flatten()(x)\n",
    "x = tf.keras.layers.Dense(1500, activation='relu')(x)\n",
    "x = tf.keras.layers.Dense(151, activation='relu')(x)\n",
    "x = tf.keras.layers.Dense(17, activation='relu')(x)\n",
    "outputs = tf.keras.layers.Dense(7, activation='softmax')(x)\n",
    "\n",
    "model = tf.keras.Model(inputs=inputs, outputs=outputs, name=\"sEMG-classfier\")\n",
    "model.summary()"
   ]
  },
  {
   "cell_type": "code",
   "execution_count": 9,
   "id": "97f58302",
   "metadata": {},
   "outputs": [],
   "source": [
    "lr = 0.001\n",
    "opt = tf.keras.optimizers.Adam(learning_rate=lr, epsilon=1e-07, clipnorm=1)\n",
    "ls = 'sparse_categorical_crossentropy'\n",
    "mtr = 'accuracy'\n",
    "n_batches = 32\n",
    "n_epochs = 10\n",
    "model.compile(optimizer=opt, loss=ls, metrics=mtr)"
   ]
  },
  {
   "cell_type": "code",
   "execution_count": 11,
   "id": "18959ec9",
   "metadata": {},
   "outputs": [
    {
     "name": "stdout",
     "output_type": "stream",
     "text": [
      "Epoch 1/10\n",
      "1400/1400 [==============================] - 21s 8ms/step - loss: 0.8518 - accuracy: 0.6532 - val_loss: 0.5064 - val_accuracy: 0.8155\n",
      "Epoch 2/10\n",
      "1400/1400 [==============================] - 10s 7ms/step - loss: 0.4010 - accuracy: 0.8375 - val_loss: 0.3554 - val_accuracy: 0.8531\n",
      "Epoch 3/10\n",
      "1400/1400 [==============================] - 11s 8ms/step - loss: 0.2960 - accuracy: 0.8812 - val_loss: 0.3212 - val_accuracy: 0.8742\n",
      "Epoch 4/10\n",
      "1400/1400 [==============================] - 11s 8ms/step - loss: 0.2342 - accuracy: 0.9069 - val_loss: 0.2683 - val_accuracy: 0.8997\n",
      "Epoch 5/10\n",
      "1400/1400 [==============================] - 10s 7ms/step - loss: 0.1803 - accuracy: 0.9298 - val_loss: 0.2703 - val_accuracy: 0.8989\n",
      "Epoch 6/10\n",
      "1400/1400 [==============================] - 10s 7ms/step - loss: 0.1484 - accuracy: 0.9431 - val_loss: 0.2840 - val_accuracy: 0.9035\n",
      "Epoch 7/10\n",
      "1400/1400 [==============================] - 11s 8ms/step - loss: 0.1120 - accuracy: 0.9580 - val_loss: 0.2492 - val_accuracy: 0.9158\n",
      "Epoch 8/10\n",
      "1400/1400 [==============================] - 11s 8ms/step - loss: 0.0872 - accuracy: 0.9676 - val_loss: 0.2831 - val_accuracy: 0.9182\n",
      "Epoch 9/10\n",
      "1400/1400 [==============================] - 10s 7ms/step - loss: 0.0763 - accuracy: 0.9727 - val_loss: 0.2691 - val_accuracy: 0.9240\n",
      "Epoch 10/10\n",
      "1400/1400 [==============================] - 11s 8ms/step - loss: 0.0625 - accuracy: 0.9784 - val_loss: 0.3187 - val_accuracy: 0.9214\n"
     ]
    }
   ],
   "source": [
    "history = model.fit(XX_train, yy_train, validation_data=(XX_test, yy_test), batch_size=n_batches, epochs= n_epochs)"
   ]
  },
  {
   "cell_type": "code",
   "execution_count": 12,
   "id": "e5a72728",
   "metadata": {
    "scrolled": false
   },
   "outputs": [
    {
     "data": {
      "image/png": "[encoded data removed]",
      "text/plain": [
       "<Figure size 576x576 with 2 Axes>"
      ]
     },
     "metadata": {
      "needs_background": "light"
     },
     "output_type": "display_data"
    }
   ],
   "source": [
    "validation_loss = history.history['val_loss']\n",
    "training_loss = history.history['loss']\n",
    "\n",
    "validation_accuracy = history.history['accuracy']\n",
    "training_accuracy = history.history['val_accuracy']\n",
    "\n",
    "epoch_range = range(n_epochs)\n",
    "plt.figure(figsize=(8,8))\n",
    "\n",
    "plt.subplot(1, 2, 1)\n",
    "plt.plot(epoch_range, training_accuracy, label = \"Training Accuracy\")\n",
    "plt.plot(epoch_range, validation_accuracy, label = \"Validation Accuracy\")\n",
    "plt.legend(loc=\"lower right\")\n",
    "plt.title(\"Training and Validation Accuracy\")\n",
    "\n",
    "plt.subplot(1, 2, 2)\n",
    "plt.plot(epoch_range, training_loss, label = \"Training Loss\")\n",
    "plt.plot(epoch_range, validation_loss, label = \"Validation Loss\")\n",
    "plt.legend(loc=\"upper right\")\n",
    "plt.title(\"Training and Validation Loss\")\n",
    "plt.show()"
   ]
  },
  {
   "cell_type": "code",
   "execution_count": 15,
   "id": "bd848255",
   "metadata": {},
   "outputs": [],
   "source": [
    "saved_model = \"sEMG-Classifier.h5\"\n",
    "model.save(saved_model)"
   ]
  },
  {
   "cell_type": "code",
   "execution_count": 19,
   "id": "63343ee3",
   "metadata": {},
   "outputs": [],
   "source": [
    "import visualkeras\n",
    "from PIL import ImageFont\n",
    "font = ImageFont.truetype(\"arial.ttf\", 32)  # using comic sans is strictly prohibited!"
   ]
  },
  {
   "cell_type": "code",
   "execution_count": 25,
   "id": "8e4cbd2f",
   "metadata": {},
   "outputs": [],
   "source": [
    "visualkeras.layered_view(model , legend=True, spacing=20, font=font, to_file='output.png').show() # write and show"
   ]
  }
 ],
 "metadata": {
  "kernelspec": {
   "display_name": "ml_tf_ven",
   "language": "python",
   "name": "ml_tf_ven"
  },
  "language_info": {
   "codemirror_mode": {
    "name": "ipython",
    "version": 3
   },
   "file_extension": ".py",
   "mimetype": "text/x-python",
   "name": "python",
   "nbconvert_exporter": "python",
   "pygments_lexer": "ipython3",
   "version": "3.8.11"
  }
 },
 "nbformat": 4,
 "nbformat_minor": 5
}
